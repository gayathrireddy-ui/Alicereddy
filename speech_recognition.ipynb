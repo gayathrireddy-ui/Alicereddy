{
  "nbformat": 4,
  "nbformat_minor": 0,
  "metadata": {
    "colab": {
      "provenance": []
    },
    "kernelspec": {
      "name": "python3",
      "display_name": "Python 3"
    },
    "language_info": {
      "name": "python"
    }
  },
  "cells": [
    {
      "cell_type": "code",
      "metadata": {
        "id": "564ee788",
        "colab": {
          "base_uri": "https://localhost:8080/"
        },
        "outputId": "df95ded9-e18f-48b2-a0de-9fd73e11230f"
      },
      "source": [
        "# task 2 speech recognition system\n",
        "!pip install SpeechRecognition\n",
        "import speech_recognition as sr\n",
        "\n",
        "recognizer = sr.Recognizer()\n",
        "\n",
        "# Make sure 'audio.wav' is in the same folder\n",
        "with sr.AudioFile('audio.wav') as source:\n",
        "    audio = recognizer.record(source)\n",
        "\n",
        "try:\n",
        "    text = recognizer.recognize_google(audio)\n",
        "    print(\"Transcription:\\n\", text)\n",
        "except sr.UnknownValueError:\n",
        "    print(\"Could not understand the audio.\")\n",
        "except sr.RequestError:\n",
        "    print(\"Service is unreachable. Check internet.\")\n"
      ],
      "execution_count": 5,
      "outputs": [
        {
          "output_type": "stream",
          "name": "stdout",
          "text": [
            "Requirement already satisfied: SpeechRecognition in /usr/local/lib/python3.11/dist-packages (3.14.3)\n",
            "Requirement already satisfied: typing-extensions in /usr/local/lib/python3.11/dist-packages (from SpeechRecognition) (4.14.1)\n",
            "Transcription:\n",
            " chapter one Mrs Rachel Lynde is surprised Mrs Rachel Lynde live just where the Avonlea Main Road dip down into a little Halo fringed with Alders and ladies ear drops and traversed by a brook\n"
          ]
        }
      ]
    }
  ]
}